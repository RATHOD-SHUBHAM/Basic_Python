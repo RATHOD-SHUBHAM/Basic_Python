{
 "cells": [
  {
   "cell_type": "markdown",
   "id": "c9ea706e-8ff9-4000-b25c-314a899cab00",
   "metadata": {},
   "source": [
    "# Multithreading\n",
    "\n",
    "Used to perform multiple task concurrently or at the same time.\n",
    "\n",
    "[Learn Python MULTITHREADING in 8 minutes! 🧵](https://www.youtube.com/watch?v=STEOavXqXkQ)\n"
   ]
  },
  {
   "cell_type": "code",
   "execution_count": 4,
   "id": "8314d7c6-bc53-444d-b43a-7c94ddd0abf4",
   "metadata": {},
   "outputs": [],
   "source": [
    "import time"
   ]
  },
  {
   "cell_type": "markdown",
   "id": "e2828abc-2acc-49ca-92c6-78a47805600b",
   "metadata": {},
   "source": [
    "## Running with Main Thread"
   ]
  },
  {
   "cell_type": "code",
   "execution_count": 5,
   "id": "daf3d48c-ed0b-4dcc-b031-7407b1433490",
   "metadata": {},
   "outputs": [],
   "source": [
    "def walk_dog():\n",
    "    # time taken to perform this task\n",
    "    time.sleep(10)\n",
    "    print(\"You finish walking the dog\")\n",
    "\n",
    "def take_out_trash():\n",
    "    # time taken to perform this task\n",
    "    time.sleep(3)\n",
    "    print(\"You take out the trash\")\n",
    "\n",
    "def get_mail():\n",
    "    # time taken to perform this task\n",
    "    time.sleep(5)\n",
    "    print(\"You get the mail from mail box\")"
   ]
  },
  {
   "cell_type": "code",
   "execution_count": 6,
   "id": "85e26684-80ea-4cd5-a73a-b513ce66e318",
   "metadata": {},
   "outputs": [
    {
     "name": "stdout",
     "output_type": "stream",
     "text": [
      "You finish walking the dog\n",
      "You take out the trash\n",
      "You get the mail from mail box\n"
     ]
    }
   ],
   "source": [
    "# Each process will follow one after the another - will wait for one func to finish before starting the next one\n",
    "walk_dog()\n",
    "take_out_trash()\n",
    "get_mail()"
   ]
  },
  {
   "cell_type": "markdown",
   "id": "061b367a-5ea3-41db-bd1d-51731a0d969b",
   "metadata": {},
   "source": [
    "# Thread - Run Concurrently"
   ]
  },
  {
   "cell_type": "code",
   "execution_count": 7,
   "id": "ba948fbb-8b29-438d-b426-19f36d319ec0",
   "metadata": {},
   "outputs": [],
   "source": [
    "import threading"
   ]
  },
  {
   "cell_type": "code",
   "execution_count": 8,
   "id": "5a9233e9-2a3f-4cf9-8028-dc513dd7dc1e",
   "metadata": {},
   "outputs": [
    {
     "name": "stdout",
     "output_type": "stream",
     "text": [
      "You take out the trash\n",
      "You get the mail from mail box\n",
      "You finish walking the dog\n"
     ]
    }
   ],
   "source": [
    "# Here all thread will start concurrently\n",
    "chores_1 = threading.Thread(target = walk_dog)\n",
    "chores_1.start()\n",
    "\n",
    "chores_2 = threading.Thread(target = take_out_trash)\n",
    "chores_2.start()\n",
    "\n",
    "chores_3 = threading.Thread(target = get_mail)\n",
    "chores_3.start()"
   ]
  },
  {
   "cell_type": "markdown",
   "id": "30f08d3f-6eac-433f-ac66-7f3d6d1f29d6",
   "metadata": {},
   "source": [
    "# Wait for the thread to finish"
   ]
  },
  {
   "cell_type": "code",
   "execution_count": 10,
   "id": "209d0339-9ec4-4543-8698-2635e591bd2d",
   "metadata": {},
   "outputs": [
    {
     "name": "stdout",
     "output_type": "stream",
     "text": [
      "All Chores done\n",
      "You take out the trash\n",
      "You get the mail from mail box\n",
      "You finish walking the dog\n"
     ]
    }
   ],
   "source": [
    "chores_1 = threading.Thread(target = walk_dog)\n",
    "chores_1.start()\n",
    "\n",
    "chores_2 = threading.Thread(target = take_out_trash)\n",
    "chores_2.start()\n",
    "\n",
    "chores_3 = threading.Thread(target = get_mail)\n",
    "chores_3.start()\n",
    "\n",
    "# There is no wait here\n",
    "print(\"All Chores done\")"
   ]
  },
  {
   "cell_type": "code",
   "execution_count": 11,
   "id": "500f660a-2cf4-41dc-9336-57780437f357",
   "metadata": {},
   "outputs": [
    {
     "name": "stdout",
     "output_type": "stream",
     "text": [
      "You take out the trash\n",
      "You get the mail from mail box\n",
      "You finish walking the dog\n",
      "All Chores done\n"
     ]
    }
   ],
   "source": [
    "chores_1 = threading.Thread(target = walk_dog)\n",
    "chores_1.start()\n",
    "\n",
    "chores_2 = threading.Thread(target = take_out_trash)\n",
    "chores_2.start()\n",
    "\n",
    "chores_3 = threading.Thread(target = get_mail)\n",
    "chores_3.start()\n",
    "\n",
    "# Wait\n",
    "chores_1.join()\n",
    "chores_2.join()\n",
    "chores_3.join()\n",
    "\n",
    "print(\"All Chores done\")"
   ]
  },
  {
   "cell_type": "markdown",
   "id": "b0d4ee87-6c4f-454c-8ec5-d1deb7c30db3",
   "metadata": {},
   "source": [
    "# Passing Arguments"
   ]
  },
  {
   "cell_type": "markdown",
   "id": "1f6979d8-0596-4e89-a811-a6b2cc4d4696",
   "metadata": {},
   "source": [
    "### One Argument - Be careful with the ,"
   ]
  },
  {
   "cell_type": "code",
   "execution_count": 12,
   "id": "b3016e6f-2fd9-44ed-851e-522d09bc2a7d",
   "metadata": {},
   "outputs": [],
   "source": [
    "def walk_dog(first_name):\n",
    "    # time taken to perform this task\n",
    "    time.sleep(10)\n",
    "    print(f\"You finish walking the {first_name}\")\n",
    "\n",
    "def take_out_trash():\n",
    "    # time taken to perform this task\n",
    "    time.sleep(3)\n",
    "    print(\"You take out the trash\")\n",
    "\n",
    "def get_mail():\n",
    "    # time taken to perform this task\n",
    "    time.sleep(5)\n",
    "    print(\"You get the mail from mail box\")"
   ]
  },
  {
   "cell_type": "code",
   "execution_count": 13,
   "id": "81ab446d-caed-4a11-be42-ebacf5bd39ee",
   "metadata": {},
   "outputs": [
    {
     "name": "stdout",
     "output_type": "stream",
     "text": [
      "You take out the trash\n",
      "You get the mail from mail box\n",
      "You finish walking the Scooby\n",
      "All Chores done\n"
     ]
    }
   ],
   "source": [
    "chores_1 = threading.Thread(target = walk_dog, args = (\"Scooby\", )) # Careful here , there needs to be a comma for one args\n",
    "chores_1.start()\n",
    "\n",
    "chores_2 = threading.Thread(target = take_out_trash)\n",
    "chores_2.start()\n",
    "\n",
    "chores_3 = threading.Thread(target = get_mail)\n",
    "chores_3.start()\n",
    "\n",
    "# Wait\n",
    "chores_1.join()\n",
    "chores_2.join()\n",
    "chores_3.join()\n",
    "\n",
    "print(\"All Chores done\")"
   ]
  },
  {
   "cell_type": "markdown",
   "id": "5825e6d7-6dae-4cf8-8bab-6e459463cee1",
   "metadata": {},
   "source": [
    "## Multiple Parameters"
   ]
  },
  {
   "cell_type": "code",
   "execution_count": 14,
   "id": "799b6561-f055-4339-81d3-81ad93cbbda8",
   "metadata": {},
   "outputs": [],
   "source": [
    "def walk_dog(first_name, last_name):\n",
    "    # time taken to perform this task\n",
    "    time.sleep(10)\n",
    "    print(f\"You finish walking the {first_name}{last_name}\")\n",
    "\n",
    "def take_out_trash():\n",
    "    # time taken to perform this task\n",
    "    time.sleep(3)\n",
    "    print(\"You take out the trash\")\n",
    "\n",
    "def get_mail():\n",
    "    # time taken to perform this task\n",
    "    time.sleep(5)\n",
    "    print(\"You get the mail from mail box\")"
   ]
  },
  {
   "cell_type": "code",
   "execution_count": 15,
   "id": "64be12af-ec1d-48dd-b806-aa78000c5a85",
   "metadata": {},
   "outputs": [
    {
     "name": "stdout",
     "output_type": "stream",
     "text": [
      "You take out the trash\n",
      "You get the mail from mail box\n",
      "You finish walking the ScoobyDOO\n",
      "All Chores done\n"
     ]
    }
   ],
   "source": [
    "chores_1 = threading.Thread(target = walk_dog, args = (\"Scooby\", \"DOO\")) \n",
    "chores_1.start()\n",
    "\n",
    "chores_2 = threading.Thread(target = take_out_trash)\n",
    "chores_2.start()\n",
    "\n",
    "chores_3 = threading.Thread(target = get_mail)\n",
    "chores_3.start()\n",
    "\n",
    "# Wait\n",
    "chores_1.join()\n",
    "chores_2.join()\n",
    "chores_3.join()\n",
    "\n",
    "print(\"All Chores done\")"
   ]
  },
  {
   "cell_type": "markdown",
   "id": "4603505e-c649-4e3c-a8b1-6b28cd2dd7e7",
   "metadata": {},
   "source": [
    "# Lock - Mutex Locks\n",
    "\n",
    "[Python Intermediate Tutorial #4 - Synchronizing Threads](https://www.youtube.com/watch?v=F3-bJlYWeJc)"
   ]
  },
  {
   "cell_type": "markdown",
   "id": "5f959c6f-1340-4887-bb08-19196ad419fe",
   "metadata": {},
   "source": [
    "Locking condition, One thread will try to increase the number and the other thread will decrease the number, so we end up staying in an infinite loop doing the same stuff."
   ]
  },
  {
   "cell_type": "code",
   "execution_count": 5,
   "id": "e42897be-d9b6-4742-9e9d-2e008472f070",
   "metadata": {},
   "outputs": [],
   "source": [
    "import time\n",
    "import threading"
   ]
  },
  {
   "cell_type": "code",
   "execution_count": 6,
   "id": "9ac52758-67f9-4bf7-b665-f712234d086f",
   "metadata": {},
   "outputs": [],
   "source": [
    "x = 8192"
   ]
  },
  {
   "cell_type": "code",
   "execution_count": 3,
   "id": "e053321e-1fc6-4dfc-ab04-85213b1efbdb",
   "metadata": {},
   "outputs": [],
   "source": [
    "def mul():\n",
    "    global x\n",
    "\n",
    "    while x < 16384:\n",
    "        x *= 2\n",
    "        print(\"Thread Mul: \",x)\n",
    "        time.sleep(1)\n",
    "    print(\"Reached max of 16384\")\n",
    "\n",
    "\n",
    "def div():\n",
    "    global x\n",
    "\n",
    "    while x > 1:\n",
    "        x /= 2\n",
    "        print(\"Thread Div: \",x)\n",
    "        time.sleep(1)\n",
    "    print(\"Reached min of 1\")\n",
    "        "
   ]
  },
  {
   "cell_type": "code",
   "execution_count": 20,
   "id": "835f37b7-959e-4e83-b0b0-3690e49dd7c3",
   "metadata": {},
   "outputs": [
    {
     "name": "stdout",
     "output_type": "stream",
     "text": [
      "Thread Mul:  16384\n",
      "Thread Div:  8192.0\n",
      "Thread Mul:  16384.0\n",
      "Thread Div:  8192.0\n",
      "Thread Mul:  16384.0\n",
      "Thread Div:  8192.0\n",
      "Thread Mul:  16384.0\n",
      "Thread Div:  8192.0\n",
      "Thread Mul:  16384.0\n",
      "Thread Div:  8192.0\n",
      "Thread Mul:  16384.0\n",
      "Thread Div:  8192.0\n",
      "Thread Mul:  16384.0\n",
      "Thread Div:  8192.0\n",
      "Thread Mul:  16384.0\n",
      "Thread Div:  8192.0\n",
      "Thread Mul: Thread Div:  8192.0\n",
      " 16384.0\n",
      "Thread Mul:  16384.0\n",
      "Thread Div:  8192.0\n",
      "Thread Div:  4096.0\n",
      "Thread Mul:  8192.0\n",
      "Thread Mul:  16384.0\n",
      "Thread Div:  8192.0\n",
      "Thread Mul: Thread Div:  8192.0\n",
      " 16384.0\n",
      "Thread Mul:  16384.0\n",
      "Thread Div:  8192.0\n",
      "Thread Mul:  16384.0\n",
      "Thread Div:  8192.0\n",
      "Thread Mul:  16384.0\n",
      "Thread Div:  8192.0\n",
      "Thread Mul:  16384.0\n",
      "Thread Div:  8192.0\n",
      "Thread Mul:  16384.0\n",
      "Thread Div:  8192.0\n",
      "Thread Mul:  16384.0\n",
      "Thread Div:  8192.0\n",
      "Thread Mul:  16384.0\n",
      "Thread Div:  8192.0\n",
      "Thread Mul:  16384.0\n",
      "Thread Div:  8192.0\n",
      "Thread Div:  4096.0\n",
      "Thread Mul:  8192.0\n",
      "Thread Div:  4096.0\n",
      "Thread Mul:  8192.0\n",
      "Thread Div:  4096.0\n",
      "Thread Mul:  8192.0\n",
      "Thread Div: Thread Mul:  8192.0\n",
      " 4096.0\n",
      "Thread Div:  4096.0\n",
      "Thread Mul:  8192.0\n",
      "Thread Div:  4096.0\n",
      "Thread Mul:  8192.0\n",
      "Thread Div:  4096.0\n",
      "Thread Mul:  8192.0\n",
      "Thread Div:  4096.0\n",
      "Thread Mul:  8192.0\n",
      "Thread Div:  4096.0\n",
      "Thread Mul:  8192.0\n",
      "Thread Div:  4096.0\n",
      "Thread Mul:  8192.0\n",
      "Thread Div:  4096.0\n",
      "Thread Mul:  8192.0\n",
      "Thread Div:  4096.0\n",
      "Thread Mul:  8192.0\n",
      "Thread Div:  4096.0\n",
      "Thread Mul:  8192.0\n",
      "Thread Div:  4096.0\n",
      "Thread Mul:  8192.0\n",
      "Thread Div:  4096.0\n",
      "Thread Mul:  8192.0\n",
      "Thread Div:  4096.0\n",
      "Thread Mul:  8192.0\n",
      "Thread Mul:  16384.0\n",
      "Thread Div:  8192.0\n",
      "Thread Div: Thread Mul:  8192.0\n",
      " 4096.0\n",
      "Thread Div:  4096.0\n",
      "Thread Mul:  8192.0\n",
      "Thread Div:  4096.0\n",
      "Thread Mul:  8192.0\n",
      "Thread Div:  4096.0\n",
      "Thread Mul:  8192.0\n",
      "Thread Div:  4096.0\n",
      "Thread Mul:  8192.0\n",
      "Thread Div:  4096.0\n",
      "Thread Mul:  8192.0\n",
      "Thread Mul: Thread Div:  8192.0\n",
      " 16384.0\n",
      "Thread Div: Thread Mul:  8192.0\n",
      " 4096.0\n",
      "Thread Mul: Thread Div:  8192.0\n",
      " 16384.0\n",
      "Thread Mul:  16384.0\n",
      "Thread Div:  8192.0\n",
      "Thread Mul:  16384.0\n",
      "Thread Div:  8192.0\n",
      "Thread Mul:  16384.0\n",
      "Thread Div:  8192.0\n",
      "Thread Mul:  16384.0\n",
      "Thread Div:  8192.0\n",
      "Thread Mul:  16384.0\n",
      "Thread Div:  8192.0\n",
      "Thread Mul:  16384.0\n",
      "Thread Div:  8192.0\n",
      "Thread Mul:  16384.0\n",
      "Thread Div:  8192.0\n",
      "Thread Mul: Thread Div:  8192.0\n",
      " 16384.0\n",
      "Thread Mul: Thread Div:  8192.0\n",
      " 16384.0\n",
      "Thread Div: Thread Mul:  8192.0\n",
      " 4096.0\n",
      "Thread Mul:  16384.0\n",
      "Thread Div:  8192.0\n",
      "Thread Mul:  16384.0\n",
      "Thread Div:  8192.0\n",
      "Thread Mul:  16384.0\n",
      "Thread Div:  8192.0\n",
      "Thread Mul:  16384.0\n",
      "Thread Div:  8192.0\n"
     ]
    }
   ],
   "source": [
    "t1 = threading.Thread(target = mul)\n",
    "t2 = threading.Thread(target = div)\n",
    "\n",
    "# t1.start()\n",
    "# t2.start()"
   ]
  },
  {
   "cell_type": "code",
   "execution_count": 8,
   "id": "86af7cc9-42a7-4577-9a11-9d9f9d35e122",
   "metadata": {},
   "outputs": [],
   "source": [
    "lock = threading.Lock()"
   ]
  },
  {
   "cell_type": "code",
   "execution_count": 9,
   "id": "1043e74c-ad35-428e-9ec8-6d5b057ecbb8",
   "metadata": {},
   "outputs": [],
   "source": [
    "def mul():\n",
    "    global x,lock\n",
    "\n",
    "    lock.acquire()\n",
    "\n",
    "    while x < 16384:\n",
    "        x *= 2\n",
    "        print(\"Thread Mul: \",x)\n",
    "        time.sleep(1)\n",
    "    print(\"Reached max of 16384\")\n",
    "\n",
    "    lock.release()\n",
    "\n",
    "\n",
    "def div():\n",
    "    global x,lock\n",
    "\n",
    "    lock.acquire()\n",
    "\n",
    "    while x > 1:\n",
    "        x /= 2\n",
    "        print(\"Thread Div: \",x)\n",
    "        time.sleep(1)\n",
    "    print(\"Reached min of 1\")\n",
    "\n",
    "    lock.release()"
   ]
  },
  {
   "cell_type": "code",
   "execution_count": 12,
   "id": "b12ceff2-3b1d-430d-9060-953310adad7c",
   "metadata": {},
   "outputs": [
    {
     "name": "stdout",
     "output_type": "stream",
     "text": [
      "Thread Div:  8192.0\n",
      "Thread Div:  4096.0\n",
      "Thread Div:  2048.0\n",
      "Thread Div:  1024.0\n",
      "Thread Div:  512.0\n",
      "Thread Div:  256.0\n",
      "Thread Div:  128.0\n",
      "Thread Div:  64.0\n",
      "Thread Div:  32.0\n",
      "Thread Div:  16.0\n",
      "Thread Div:  8.0\n",
      "Thread Div:  4.0\n",
      "Thread Div:  2.0\n",
      "Thread Div:  1.0\n",
      "Reached min of 1\n",
      "Thread Mul:  2.0\n",
      "Thread Mul:  4.0\n",
      "Thread Mul:  8.0\n",
      "Thread Mul:  16.0\n",
      "Thread Mul:  32.0\n",
      "Thread Mul:  64.0\n",
      "Thread Mul:  128.0\n",
      "Thread Mul:  256.0\n",
      "Thread Mul:  512.0\n",
      "Thread Mul:  1024.0\n",
      "Thread Mul:  2048.0\n",
      "Thread Mul:  4096.0\n",
      "Thread Mul:  8192.0\n",
      "Thread Mul:  16384.0\n",
      "Reached max of 16384\n"
     ]
    }
   ],
   "source": [
    "# Lock will first finish running one function then release it and make it availabe for the other thread\n",
    "t1 = threading.Thread(target = mul)\n",
    "t2 = threading.Thread(target = div)\n",
    "\n",
    "\n",
    "t2.start()\n",
    "t1.start()"
   ]
  },
  {
   "cell_type": "markdown",
   "id": "3cc388c2-fd68-4e19-b944-bbea3bd17f4a",
   "metadata": {},
   "source": [
    "# Semaphores"
   ]
  },
  {
   "cell_type": "code",
   "execution_count": 13,
   "id": "6cb8512f-0a72-4539-85f4-7c91d2a2d12c",
   "metadata": {},
   "outputs": [],
   "source": [
    "# Limit the access of resources"
   ]
  },
  {
   "cell_type": "code",
   "execution_count": 14,
   "id": "4236f1d5-0047-46e5-af44-795c22f36b27",
   "metadata": {},
   "outputs": [],
   "source": [
    "semaphore = threading.BoundedSemaphore(value = 5) # Only 5 member can access the resource at once"
   ]
  },
  {
   "cell_type": "code",
   "execution_count": 15,
   "id": "29423dcd-e971-4275-8f01-bbcf003ae5cf",
   "metadata": {},
   "outputs": [],
   "source": [
    "def resource(thread_number):\n",
    "    print(f'{thread_number} is trying to access the resource !')\n",
    "    \n",
    "    semaphore.acquire()\n",
    "    print(f'{thread_number} was granted access to the resource !')\n",
    "    time.sleep(15)\n",
    "    print(f'{thread_number} is releasing the resource !')\n",
    "    semaphore.release()"
   ]
  },
  {
   "cell_type": "code",
   "execution_count": 16,
   "id": "c6de8a7c-7d72-47d0-aaff-1c6c4b768f1d",
   "metadata": {},
   "outputs": [
    {
     "name": "stdout",
     "output_type": "stream",
     "text": [
      "1 is trying to access the resource !\n",
      "1 was granted access to the resource !\n",
      "2 is trying to access the resource !\n",
      "2 was granted access to the resource !\n",
      "3 is trying to access the resource !\n",
      "3 was granted access to the resource !\n",
      "4 is trying to access the resource !\n",
      "4 was granted access to the resource !\n",
      "5 is trying to access the resource !\n",
      "5 was granted access to the resource !\n",
      "6 is trying to access the resource !\n",
      "7 is trying to access the resource !\n",
      "8 is trying to access the resource !\n",
      "1 is releasing the resource !\n",
      "6 was granted access to the resource !\n",
      "9 is trying to access the resource !\n",
      "2 is releasing the resource !\n",
      "7 was granted access to the resource !\n",
      "10 is trying to access the resource !\n",
      "3 is releasing the resource !\n",
      "8 was granted access to the resource !\n",
      "4 is releasing the resource !\n",
      "9 was granted access to the resource !\n",
      "5 is releasing the resource !\n",
      "10 was granted access to the resource !\n",
      "6 is releasing the resource !\n",
      "7 is releasing the resource !\n",
      "8 is releasing the resource !\n",
      "9 is releasing the resource !\n",
      "10 is releasing the resource !\n"
     ]
    }
   ],
   "source": [
    "for thread_number in range(1, 11):\n",
    "    t = threading.Thread(target = resource, args=(thread_number, ))\n",
    "    t.start()\n",
    "    time.sleep(2)"
   ]
  },
  {
   "cell_type": "markdown",
   "id": "c9bcc21f-25a4-4874-8ee9-d104387599ec",
   "metadata": {},
   "source": [
    "# Events - Trigger or alerts that need attention or reactions.\n",
    "[Python Intermediate Tutorial #5 - Events and Daemon Threads](https://www.youtube.com/watch?v=Kae9aV9DO7k)"
   ]
  },
  {
   "cell_type": "code",
   "execution_count": 19,
   "id": "a34a5d7d-2a90-45a5-b1b2-ec912c51fdfb",
   "metadata": {},
   "outputs": [
    {
     "name": "stdout",
     "output_type": "stream",
     "text": [
      "Waiting  for an event to be triggered \n",
      "\n"
     ]
    },
    {
     "name": "stdin",
     "output_type": "stream",
     "text": [
      "Do you wanna activate trigger? [y/n]: \n",
      " y\n"
     ]
    },
    {
     "name": "stdout",
     "output_type": "stream",
     "text": [
      "Running my function after the event has been triggered \n",
      "\n",
      "11\n"
     ]
    }
   ],
   "source": [
    "import threading\n",
    "\n",
    "event = threading.Event()\n",
    "\n",
    "# Run this function in background but wait for some event to be triggered\n",
    "def func(a, b):\n",
    "    print(\"Waiting  for an event to be triggered \\n\")\n",
    "    event.wait() # waits to receive some trigger\n",
    "    print(\"Running my function after the event has been triggered \\n\")\n",
    "    print(a+b)\n",
    "\n",
    "\n",
    "t = threading.Thread(target = func, args = (5,6))\n",
    "t.start()\n",
    "\n",
    "\n",
    "x = input(\"Do you wanna activate trigger? [y/n]: \\n\")\n",
    "if x == \"y\":\n",
    "    # Trigger event\n",
    "    event.set()"
   ]
  },
  {
   "cell_type": "markdown",
   "id": "3f45f018-ca5a-494a-bbb7-482c64001585",
   "metadata": {},
   "source": [
    "# Daemon Threads\n",
    "\n",
    "Program usually waits for all of the threads to finish, ut with daemon thread the program terminates even if the daemon thread is still running.\n",
    "\n",
    "Nobody waits for daemon threads."
   ]
  },
  {
   "cell_type": "code",
   "execution_count": 21,
   "id": "e5b32ead-d26f-4d30-9065-7b839ea3dd75",
   "metadata": {},
   "outputs": [],
   "source": [
    "import threading\n",
    "import time\n",
    "import os"
   ]
  },
  {
   "cell_type": "code",
   "execution_count": 22,
   "id": "249e9799-6724-4e5d-8fed-95fed1e4cb0a",
   "metadata": {},
   "outputs": [
    {
     "data": {
      "text/plain": [
       "'/Users/shubhamrathod/PycharmProjects/Python'"
      ]
     },
     "execution_count": 22,
     "metadata": {},
     "output_type": "execute_result"
    }
   ],
   "source": [
    "HOME = os.getcwd()\n",
    "HOME"
   ]
  },
  {
   "cell_type": "code",
   "execution_count": 23,
   "id": "63fea126-1c39-46ae-b81f-91a03e86721d",
   "metadata": {},
   "outputs": [],
   "source": [
    "file_path = f'{HOME}/dummy.txt'\n",
    "text = \"\""
   ]
  },
  {
   "cell_type": "code",
   "execution_count": 24,
   "id": "c12e560e-edef-4435-9caf-35da811a304e",
   "metadata": {},
   "outputs": [],
   "source": [
    "# Daemon thread, the function will terminate automatically\n",
    "def read_file():\n",
    "    global file_path, text\n",
    "\n",
    "    while True:\n",
    "        # Even thought there is a infinite loop, this function will terminate automatically\n",
    "        with open(file_path, 'r') as f:\n",
    "            text = f.read()\n",
    "        time.sleep(3)\n"
   ]
  },
  {
   "cell_type": "code",
   "execution_count": 25,
   "id": "18feb24e-af8d-4b39-a53f-a69d888dc298",
   "metadata": {},
   "outputs": [],
   "source": [
    "# Function which will terminate\n",
    "def printloop():\n",
    "    global text\n",
    "    for i in range(15):\n",
    "        print(\"Print loop function: \", text)\n",
    "        time.sleep(1)"
   ]
  },
  {
   "cell_type": "code",
   "execution_count": 26,
   "id": "d0d6299a-737a-4a7a-b020-2f3bb57530a7",
   "metadata": {},
   "outputs": [
    {
     "name": "stdout",
     "output_type": "stream",
     "text": [
      "Print loop function:  \n",
      "Print loop function:  Hello World.\n",
      "Print loop function:  Hello World.\n",
      "Print loop function:  Hello World.\n",
      "Print loop function:  Hello World.\n",
      "Print loop function:  Hello World.\n",
      "Print loop function:  Hello World.\n",
      "Print loop function:  Hello World.\n",
      "Print loop function:  Hello World.\n",
      "Print loop function:  Hello§.\n",
      "Print loop function:  Hello§.\n",
      "Print loop function:  Hello§.\n",
      "Print loop function:  Hello§.\n",
      "Print loop function:  Hello§.\n",
      "Print loop function:  Hello§.\n"
     ]
    }
   ],
   "source": [
    "t1 = threading.Thread(target = read_file, daemon=True) # Daemon Thread\n",
    "t2 = threading.Thread(target = printloop)\n",
    "\n",
    "t1.start()\n",
    "t2.start()"
   ]
  },
  {
   "cell_type": "code",
   "execution_count": null,
   "id": "67c6482a-a836-49e8-aaa5-a12cfdd256dc",
   "metadata": {},
   "outputs": [],
   "source": []
  }
 ],
 "metadata": {
  "kernelspec": {
   "display_name": "mygeneral",
   "language": "python",
   "name": "mygeneral"
  },
  "language_info": {
   "codemirror_mode": {
    "name": "ipython",
    "version": 3
   },
   "file_extension": ".py",
   "mimetype": "text/x-python",
   "name": "python",
   "nbconvert_exporter": "python",
   "pygments_lexer": "ipython3",
   "version": "3.10.14"
  }
 },
 "nbformat": 4,
 "nbformat_minor": 5
}
