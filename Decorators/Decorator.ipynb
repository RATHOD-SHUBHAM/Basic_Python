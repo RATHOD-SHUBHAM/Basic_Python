{
 "cells": [
  {
   "cell_type": "code",
   "execution_count": 1,
   "id": "38bc0097-9ff9-410c-94c4-12b3de1f27a4",
   "metadata": {},
   "outputs": [],
   "source": [
    "import time"
   ]
  },
  {
   "cell_type": "markdown",
   "id": "1eabfe94-b3dd-4145-b742-42828cd2bf84",
   "metadata": {},
   "source": [
    "[Python Decorators in 15 Minutes](https://www.youtube.com/watch?v=r7Dtus7N4pI)"
   ]
  },
 {
   "cell_type": "markdown",
   "id": "1eabfe94-b3dd-4145-b742-42828cd2bf84",
   "metadata": {},
   "source": [
    "[PLEASE Use These 5 Python Decorators](https://www.youtube.com/watch?v=JgxCY-tbWHA)"
   ]
  },
  {
   "cell_type": "markdown",
   "id": "b520b88d-cee3-473e-a549-69610f7da69a",
   "metadata": {},
   "source": [
    "# Functions can be represented as object in Python"
   ]
  },
  {
   "cell_type": "code",
   "execution_count": 14,
   "id": "1092cec2-f83c-41d9-8ebf-f9a28a16dca0",
   "metadata": {},
   "outputs": [],
   "source": [
    "def func_f1():\n",
    "    print(\"Hello world\")"
   ]
  },
  {
   "cell_type": "code",
   "execution_count": 22,
   "id": "f43f83ff-455e-4006-9108-ca8cf7059769",
   "metadata": {},
   "outputs": [
    {
     "name": "stdout",
     "output_type": "stream",
     "text": [
      "Hello world\n"
     ]
    }
   ],
   "source": [
    "func_f1()"
   ]
  },
  {
   "cell_type": "code",
   "execution_count": 17,
   "id": "8b51cf99-4c70-475b-8870-d59cc8dea07f",
   "metadata": {},
   "outputs": [
    {
     "name": "stdout",
     "output_type": "stream",
     "text": [
      "<function func_f1 at 0x10737c430>\n"
     ]
    }
   ],
   "source": [
    "print(func_f1)"
   ]
  },
  {
   "cell_type": "markdown",
   "id": "4f67d810-7c22-4da3-a5f4-48603ec914d7",
   "metadata": {},
   "source": [
    "## Everything in Python is a object - So we can pass function as a **Parameter** to a function"
   ]
  },
  {
   "cell_type": "code",
   "execution_count": 24,
   "id": "035c667d-e8c0-443a-8bc1-d3f7f192c9ce",
   "metadata": {},
   "outputs": [],
   "source": [
    "def func_f2(func):\n",
    "    func()"
   ]
  },
  {
   "cell_type": "code",
   "execution_count": 25,
   "id": "94e42f5c-7b10-48a5-bf91-f2483a9f7b7a",
   "metadata": {},
   "outputs": [
    {
     "name": "stdout",
     "output_type": "stream",
     "text": [
      "Hello world\n"
     ]
    }
   ],
   "source": [
    "func_f2(func_f1)"
   ]
  },
  {
   "cell_type": "markdown",
   "id": "7a327fdc-edfd-4619-a014-e1b2f14a383e",
   "metadata": {},
   "source": [
    "## Wrapper Function"
   ]
  },
  {
   "cell_type": "code",
   "execution_count": 26,
   "id": "0b2aeb96-86b0-4228-acc3-340e5532f5a8",
   "metadata": {},
   "outputs": [],
   "source": [
    "def func_fx(func):\n",
    "    def wrapper():\n",
    "        print(\"Started function\")\n",
    "        func()\n",
    "        print(\"Ended function\")\n",
    "\n",
    "    return wrapper"
   ]
  },
  {
   "cell_type": "code",
   "execution_count": 27,
   "id": "4feece97-4c4e-4c8d-bf11-ab52fe0809a5",
   "metadata": {},
   "outputs": [],
   "source": [
    "def func_fy():\n",
    "    print(\"Hello There\")"
   ]
  },
  {
   "cell_type": "code",
   "execution_count": 31,
   "id": "5373498e-7f78-4618-a764-d6fc4ed91949",
   "metadata": {},
   "outputs": [
    {
     "data": {
      "text/plain": [
       "<function __main__.func_fx.<locals>.wrapper()>"
      ]
     },
     "execution_count": 31,
     "metadata": {},
     "output_type": "execute_result"
    }
   ],
   "source": [
    "func_fx(func_fy) # Nothing will happen, we never end up calling the func()\n",
    "# This will return a value which is actually an another function"
   ]
  },
  {
   "cell_type": "code",
   "execution_count": 32,
   "id": "2b227f8d-dd06-4692-8fcc-a55b43b18d60",
   "metadata": {},
   "outputs": [
    {
     "name": "stdout",
     "output_type": "stream",
     "text": [
      "Started function\n",
      "Hello There\n",
      "Ended function\n"
     ]
    }
   ],
   "source": [
    "func_fx(func_fy)()"
   ]
  },
  {
   "cell_type": "markdown",
   "id": "40b0dd43-df18-44c6-86cb-eb5a7337f4b7",
   "metadata": {},
   "source": [
    "## Function Aliasing - Change the name of function"
   ]
  },
  {
   "cell_type": "code",
   "execution_count": 34,
   "id": "7f51be9a-4b47-4535-b8ad-e0348101229c",
   "metadata": {},
   "outputs": [
    {
     "name": "stdout",
     "output_type": "stream",
     "text": [
      "Started function\n",
      "Hello There\n",
      "Ended function\n"
     ]
    }
   ],
   "source": [
    "# We can write the above call like\n",
    "x = func_fx(func_fy)\n",
    "x()"
   ]
  },
  {
   "cell_type": "markdown",
   "id": "eccdbeb6-4d27-4bcb-bed9-fe1bec3b90b0",
   "metadata": {},
   "source": [
    "## Decorator"
   ]
  },
  {
   "cell_type": "code",
   "execution_count": 36,
   "id": "faecee3c-06b7-4b49-8fae-a8a6321fda08",
   "metadata": {},
   "outputs": [],
   "source": [
    "x = func_fx(func_fy)\n",
    "\n",
    "# The above line can be replaced with Decorators"
   ]
  },
  {
   "cell_type": "code",
   "execution_count": 39,
   "id": "0ac66a0d-b915-4189-9fea-b638a8dffdfc",
   "metadata": {},
   "outputs": [],
   "source": [
    "# x = func_fx(func_fz)\n",
    "@func_fx\n",
    "def func_fz():\n",
    "    print(\"Hello zzzz\")"
   ]
  },
  {
   "cell_type": "code",
   "execution_count": 40,
   "id": "e203be81-8c19-496f-8fd9-969cb89445ac",
   "metadata": {},
   "outputs": [
    {
     "name": "stdout",
     "output_type": "stream",
     "text": [
      "Started function\n",
      "Hello zzzz\n",
      "Ended function\n"
     ]
    }
   ],
   "source": [
    "func_fz()"
   ]
  },
  {
   "cell_type": "markdown",
   "id": "9f29e15e-ce90-4ed1-9383-00f7b335b74e",
   "metadata": {},
   "source": [
    "# Passing Arguments to Decorator"
   ]
  },
  {
   "cell_type": "code",
   "execution_count": 47,
   "id": "1ca91672-676a-4b8d-a26e-e37dcdfdf088",
   "metadata": {},
   "outputs": [],
   "source": [
    "def func_decor(func):\n",
    "    def wrapper(*args, **kwargs):\n",
    "        print(\"starting timer\")\n",
    "        start = time.time()\n",
    "        val = func(*args, **kwargs)\n",
    "        end = time.time()\n",
    "        print(\"ending timer\")\n",
    "        time_taken = end - start\n",
    "        print(f\"Total time taken by {func.__name__} is {time_taken}\")\n",
    "\n",
    "        return val\n",
    "\n",
    "    return wrapper"
   ]
  },
  {
   "cell_type": "code",
   "execution_count": 48,
   "id": "a6115900-58d6-47e2-9eec-a85acee35661",
   "metadata": {},
   "outputs": [],
   "source": [
    "@func_decor\n",
    "def add_num(a , b):\n",
    "    return a + b"
   ]
  },
  {
   "cell_type": "code",
   "execution_count": 49,
   "id": "494eff88-13e6-4973-aa9c-f8054b0208de",
   "metadata": {},
   "outputs": [
    {
     "name": "stdout",
     "output_type": "stream",
     "text": [
      "starting timer\n",
      "ending timer\n",
      "Total time taken by add_num is 1.9073486328125e-06\n"
     ]
    },
    {
     "data": {
      "text/plain": [
       "10"
      ]
     },
     "execution_count": 49,
     "metadata": {},
     "output_type": "execute_result"
    }
   ],
   "source": [
    "add_num(5, 5)"
   ]
  },
  {
   "cell_type": "markdown",
   "id": "717b854e-13f2-492a-95f1-7a2c7132ac6b",
   "metadata": {},
   "source": [
    "## Example 2"
   ]
  },
  {
   "cell_type": "code",
   "execution_count": 50,
   "id": "cf00b3b8-f293-4140-a555-96d9f2ff40dc",
   "metadata": {},
   "outputs": [],
   "source": [
    "# This is the main decorator function\n",
    "def calc_time(func):\n",
    "    def time_wrapper():\n",
    "        start_time = time.time()\n",
    "        func()\n",
    "        end_time = time.time()\n",
    "\n",
    "        total_time = end_time - start_time\n",
    "\n",
    "        print(f'{func.__name__} ran in {total_time} second')\n",
    "\n",
    "    return time_wrapper  "
   ]
  },
  {
   "cell_type": "code",
   "execution_count": 51,
   "id": "71bbace1-35ae-427c-baf0-9b3a0354f5c0",
   "metadata": {},
   "outputs": [],
   "source": [
    "@calc_time\n",
    "def my_func_one():\n",
    "    print(\"Sleeping for 2 seconds\")\n",
    "    time.sleep(2)\n",
    "    print(\"Function One\")"
   ]
  },
  {
   "cell_type": "code",
   "execution_count": 52,
   "id": "53e0c354-5a6f-43cf-92b1-1aca98fa7859",
   "metadata": {},
   "outputs": [],
   "source": [
    "@calc_time\n",
    "def my_func_two():\n",
    "    print(\"Sleeping for 4 seconds\")\n",
    "    time.sleep(4)\n",
    "    print(\"Function Two\")"
   ]
  },
  {
   "cell_type": "code",
   "execution_count": 53,
   "id": "23ee714b-41c8-470a-8d29-6b1b67638c03",
   "metadata": {},
   "outputs": [
    {
     "name": "stdout",
     "output_type": "stream",
     "text": [
      "Sleeping for 2 seconds\n",
      "Function One\n",
      "my_func_one ran in 2.0049290657043457 second\n",
      "Sleeping for 4 seconds\n",
      "Function Two\n",
      "my_func_two ran in 4.005378007888794 second\n"
     ]
    }
   ],
   "source": [
    "my_func_one()\n",
    "my_func_two()"
   ]
  },
  {
   "cell_type": "markdown",
   "id": "9a346507-9344-4423-ab94-fb8e0942dec0",
   "metadata": {},
   "source": [
    "## Example 3: Log Functions."
   ]
  },
  {
   "cell_type": "code",
   "execution_count": 54,
   "id": "46069b4e-113d-45f8-a4ff-d6b0beeda88d",
   "metadata": {},
   "outputs": [],
   "source": [
    "import os\n",
    "HOME = os.getcwd()"
   ]
  },
  {
   "cell_type": "code",
   "execution_count": 85,
   "id": "ecc4a1a0-2a95-4816-a4cf-351bee6645ec",
   "metadata": {},
   "outputs": [],
   "source": [
    "def log_func(func):\n",
    "    def wrapper(*args, **kwargs):\n",
    "        # Log the time when this function was called\n",
    "        start = time.time()\n",
    "\n",
    "        with open(f'{HOME}/log.txt' , 'a') as f:\n",
    "            f.write(f'{func.__name__} started at {start}')\n",
    "\n",
    "        val = func(*args, **kwargs)\n",
    "\n",
    "        end = time.time()\n",
    "\n",
    "        total_time = end - start\n",
    "        with open(f'{HOME}/log.txt' , 'a') as f:\n",
    "            f.write(f'{func.__name__} ran for a total of {total_time}')\n",
    "\n",
    "        return val\n",
    "    \n",
    "    return wrapper"
   ]
  },
  {
   "cell_type": "code",
   "execution_count": 86,
   "id": "950751aa-9427-4f30-a733-137bd0c6bf58",
   "metadata": {},
   "outputs": [],
   "source": [
    "class Dummy:\n",
    "    @log_func\n",
    "    def sum_n_natural_number(self, x):\n",
    "        # sum of n number\n",
    "        Ts = (x * (x+1)) // 2\n",
    "\n",
    "        return Ts\n",
    "        \n",
    "    @log_func\n",
    "    def sum_square(self, x):\n",
    "        # sum of sqaure of n number\n",
    "        Ts_s = (x * (x+1) * ((2*x) + 1) ) // 6\n",
    "\n",
    "        return Ts_s "
   ]
  },
  {
   "cell_type": "code",
   "execution_count": 88,
   "id": "22725c23-8c08-4738-b958-dc89137dd2d1",
   "metadata": {},
   "outputs": [
    {
     "name": "stdout",
     "output_type": "stream",
     "text": [
      "10\n",
      "30\n"
     ]
    }
   ],
   "source": [
    "obj = Dummy()\n",
    "x = 4\n",
    "print(obj.sum_n_natural_number(x = x))\n",
    "print(obj.sum_square(x = x))"
   ]
  },
  {
   "cell_type": "code",
   "execution_count": null,
   "id": "236a290a-c750-40fa-82bf-765361ecc9bd",
   "metadata": {},
   "outputs": [],
   "source": []
  },
  {
   "cell_type": "code",
   "execution_count": null,
   "id": "82496178-5e56-43e1-bbaa-199b4a23e7c0",
   "metadata": {},
   "outputs": [],
   "source": []
  }
 ],
 "metadata": {
  "kernelspec": {
   "display_name": "mygeneral",
   "language": "python",
   "name": "mygeneral"
  },
  "language_info": {
   "codemirror_mode": {
    "name": "ipython",
    "version": 3
   },
   "file_extension": ".py",
   "mimetype": "text/x-python",
   "name": "python",
   "nbconvert_exporter": "python",
   "pygments_lexer": "ipython3",
   "version": "3.10.14"
  }
 },
 "nbformat": 4,
 "nbformat_minor": 5
}
