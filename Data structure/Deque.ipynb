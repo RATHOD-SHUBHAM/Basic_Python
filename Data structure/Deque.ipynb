{
 "cells": [
  {
   "cell_type": "markdown",
   "id": "5a62d383-7eaf-48c9-ab37-b1b1e6371dae",
   "metadata": {},
   "source": [
    "# Deque in Python\n",
    "\n",
    "Deque (Doubly Ended Queue) in Python is implemented using the module “collections“. \n",
    "\n",
    "Deque is preferred over a list in the cases where we need quicker append and pop operations from both the ends of the container, as deque provides an O(1) time complexity for append and pop operations as compared to a list that provides O(n) time complexity."
   ]
  },
  {
   "cell_type": "markdown",
   "id": "03fe4dd8-2f6b-4ce6-9ea1-061678f82ae4",
   "metadata": {},
   "source": [
    "## Initializing Deque"
   ]
  },
  {
   "cell_type": "code",
   "execution_count": 2,
   "id": "ad339669-57d3-43b3-bf00-96578d095c86",
   "metadata": {},
   "outputs": [
    {
     "name": "stdout",
     "output_type": "stream",
     "text": [
      "deque([1, 2, 3])\n"
     ]
    }
   ],
   "source": [
    "from collections import deque\n",
    "\n",
    "q = deque([1 , 2, 3])\n",
    "\n",
    "print(q)"
   ]
  },
  {
   "cell_type": "markdown",
   "id": "2020a770-0e42-4381-8100-2f5b2e7184ca",
   "metadata": {},
   "source": [
    "# Operations"
   ]
  },
  {
   "cell_type": "markdown",
   "id": "691b73b6-fe11-47eb-b23e-f81e4ffdbd95",
   "metadata": {},
   "source": [
    "## Appending Items Efficiently\n",
    "1. append():- This function is used to insert the value in its argument to the right end of the deque.\n",
    "2. appendleft():- This function is used to insert the value in its argument to the left end of the deque.\n",
    "\n",
    "3. extend(iterable):- This function is used to add multiple values at the right end of the deque. The argument passed is iterable.\n",
    "4. extendleft(iterable):- This function is used to add multiple values at the left end of the deque. The argument passed is iterable. Order is reversed as a result of left appends.\n",
    "\n"
   ]
  },
  {
   "cell_type": "code",
   "execution_count": 8,
   "id": "6392a912-6026-40fa-90f8-b658edd6dad8",
   "metadata": {},
   "outputs": [
    {
     "data": {
      "text/plain": [
       "deque([1, 2, 3, 4])"
      ]
     },
     "execution_count": 8,
     "metadata": {},
     "output_type": "execute_result"
    }
   ],
   "source": [
    "q.append(4)\n",
    "q"
   ]
  },
  {
   "cell_type": "code",
   "execution_count": 9,
   "id": "0b58f127-f215-492e-9eac-7480f42b3599",
   "metadata": {},
   "outputs": [
    {
     "data": {
      "text/plain": [
       "deque([0, 1, 2, 3, 4])"
      ]
     },
     "execution_count": 9,
     "metadata": {},
     "output_type": "execute_result"
    }
   ],
   "source": [
    "q.appendleft(0)\n",
    "q"
   ]
  },
  {
   "cell_type": "code",
   "execution_count": 10,
   "id": "e255543b-36ef-4621-bc14-516afc6d39aa",
   "metadata": {},
   "outputs": [
    {
     "data": {
      "text/plain": [
       "deque([0, 1, 2, 3, 4, 5, 6, 7, 8])"
      ]
     },
     "execution_count": 10,
     "metadata": {},
     "output_type": "execute_result"
    }
   ],
   "source": [
    "q.extend([5,6,7,8])\n",
    "q"
   ]
  },
  {
   "cell_type": "code",
   "execution_count": 11,
   "id": "3941629e-83fd-421d-92de-e8506a502010",
   "metadata": {},
   "outputs": [
    {
     "data": {
      "text/plain": [
       "deque([-1, -2, -3, 0, 1, 2, 3, 4, 5, 6, 7, 8])"
      ]
     },
     "execution_count": 11,
     "metadata": {},
     "output_type": "execute_result"
    }
   ],
   "source": [
    "q.extendleft([-3, -2, -1])\n",
    "q"
   ]
  },
  {
   "cell_type": "markdown",
   "id": "9ba0f12a-10ac-4ad2-bceb-3e3feba66874",
   "metadata": {},
   "source": [
    "## Popping Items Efficiently\n",
    "1. pop():- This function is used to delete an argument from the right end of the deque.\n",
    "2. popleft():- This function is used to delete an argument from the left end of the deque."
   ]
  },
  {
   "cell_type": "code",
   "execution_count": 12,
   "id": "2da9b48d-1e8f-4190-bade-a1be3bb0e70f",
   "metadata": {},
   "outputs": [
    {
     "data": {
      "text/plain": [
       "deque([-1, -2, -3, 0, 1, 2, 3, 4, 5, 6, 7])"
      ]
     },
     "execution_count": 12,
     "metadata": {},
     "output_type": "execute_result"
    }
   ],
   "source": [
    "q.pop()\n",
    "q"
   ]
  },
  {
   "cell_type": "code",
   "execution_count": 13,
   "id": "8082a93b-47c3-4bb8-9ebf-b505307a304e",
   "metadata": {},
   "outputs": [
    {
     "data": {
      "text/plain": [
       "deque([-2, -3, 0, 1, 2, 3, 4, 5, 6, 7])"
      ]
     },
     "execution_count": 13,
     "metadata": {},
     "output_type": "execute_result"
    }
   ],
   "source": [
    "q.popleft()\n",
    "q"
   ]
  },
  {
   "cell_type": "markdown",
   "id": "1aeaf83e-db74-4dd2-b0db-9bc5a217ba4f",
   "metadata": {},
   "source": [
    "# Other functions \n",
    "\n",
    "1. Size of a deque\n",
    "- len(dequeue):- Return the current size of the dequeue.\n",
    "\n",
    "2. reverse():- This function is used to reverse the order of deque elements.\n",
    "\n",
    "3. rotate():- This function rotates the deque by the number specified in arguments.\n",
    "- If the number specified is negative, rotation occurs to the left.\n",
    "- Else rotation is to right.\n",
    "\n",
    "4. Deque[0] :- We can access the **front element** of the deque using indexing with de[0].\n",
    "5. Deque[-1] :- We can access the **back element** of the deque using indexing with de[-1]."
   ]
  },
  {
   "cell_type": "code",
   "execution_count": 14,
   "id": "e5125a26-f5a0-438a-beae-9fad8e52b337",
   "metadata": {},
   "outputs": [
    {
     "data": {
      "text/plain": [
       "10"
      ]
     },
     "execution_count": 14,
     "metadata": {},
     "output_type": "execute_result"
    }
   ],
   "source": [
    "len(q)"
   ]
  },
  {
   "cell_type": "code",
   "execution_count": 15,
   "id": "b027901d-0590-405a-81dc-b7b29b5d71d4",
   "metadata": {},
   "outputs": [
    {
     "data": {
      "text/plain": [
       "deque([7, 6, 5, 4, 3, 2, 1, 0, -3, -2])"
      ]
     },
     "execution_count": 15,
     "metadata": {},
     "output_type": "execute_result"
    }
   ],
   "source": [
    "q.reverse()\n",
    "q"
   ]
  },
  {
   "cell_type": "code",
   "execution_count": 16,
   "id": "d5bb5a26-96d4-4a0e-a8a5-dac05a803825",
   "metadata": {},
   "outputs": [
    {
     "data": {
      "text/plain": [
       "deque([0, -3, -2, 7, 6, 5, 4, 3, 2, 1])"
      ]
     },
     "execution_count": 16,
     "metadata": {},
     "output_type": "execute_result"
    }
   ],
   "source": [
    "# Rotate from right.\n",
    "q.rotate(3)\n",
    "q"
   ]
  },
  {
   "cell_type": "code",
   "execution_count": 17,
   "id": "5e134e33-08d2-4122-a419-986400824cad",
   "metadata": {},
   "outputs": [
    {
     "data": {
      "text/plain": [
       "deque([7, 6, 5, 4, 3, 2, 1, 0, -3, -2])"
      ]
     },
     "execution_count": 17,
     "metadata": {},
     "output_type": "execute_result"
    }
   ],
   "source": [
    "# Rotate from left.\n",
    "q.rotate(-3)\n",
    "q"
   ]
  },
  {
   "cell_type": "code",
   "execution_count": 20,
   "id": "d54f2ddd-5b8d-47b6-8b93-107d28fb9607",
   "metadata": {},
   "outputs": [
    {
     "data": {
      "text/plain": [
       "-2"
      ]
     },
     "execution_count": 20,
     "metadata": {},
     "output_type": "execute_result"
    }
   ],
   "source": [
    "q[-1] # Last Element"
   ]
  },
  {
   "cell_type": "code",
   "execution_count": 21,
   "id": "e8f10cc8-4ee6-4dbb-b5c3-b30c23de097c",
   "metadata": {},
   "outputs": [
    {
     "data": {
      "text/plain": [
       "7"
      ]
     },
     "execution_count": 21,
     "metadata": {},
     "output_type": "execute_result"
    }
   ],
   "source": [
    "q[0] # Front Element"
   ]
  },
  {
   "cell_type": "markdown",
   "id": "59ae01b6-8e89-4a6f-8b75-33be0fd5550a",
   "metadata": {},
   "source": [
    "# Accessing Items in a deque\n",
    "1. index(ele, beg, end):- This function returns the first index of the value mentioned in arguments, starting searching from beg till end index.\n",
    "2. insert(i, a) :- This function inserts the value mentioned in arguments(a) at index(i) specified in arguments.\n",
    "3. remove():- This function removes the first occurrence of the value mentioned in arguments.\n",
    "4. count():- This function counts the number of occurrences of value mentioned in arguments.\n",
    "\n"
   ]
  },
  {
   "cell_type": "code",
   "execution_count": 30,
   "id": "a7dcae13-e185-4bda-abee-3b282c2c6a90",
   "metadata": {},
   "outputs": [
    {
     "data": {
      "text/plain": [
       "deque([-3, -2, -1, 0, 1, 2, 3, 4, 5, 6, 7, 8, 2, 4, 5])"
      ]
     },
     "execution_count": 30,
     "metadata": {},
     "output_type": "execute_result"
    }
   ],
   "source": [
    "q = deque([-3,-2,-1,0,1,2,3,4,5,6,7,8,2,4,5])\n",
    "q"
   ]
  },
  {
   "cell_type": "code",
   "execution_count": 32,
   "id": "53260a89-ad3d-4b88-8a57-2423d57887be",
   "metadata": {},
   "outputs": [
    {
     "data": {
      "text/plain": [
       "5"
      ]
     },
     "execution_count": 32,
     "metadata": {},
     "output_type": "execute_result"
    }
   ],
   "source": [
    "q.index(2,3,13) # First occurance of 2 in the queue"
   ]
  },
  {
   "cell_type": "code",
   "execution_count": 39,
   "id": "55b5b795-87bf-4173-966b-270673969790",
   "metadata": {},
   "outputs": [
    {
     "data": {
      "text/plain": [
       "deque([-3, -2, -1, 0, 1, 2, 3, 4, 5, 6, 7, 8, 9, 2, 4, 5])"
      ]
     },
     "execution_count": 39,
     "metadata": {},
     "output_type": "execute_result"
    }
   ],
   "source": [
    "q.insert(12, 9) # Insert 9 at index 12\n",
    "q"
   ]
  },
  {
   "cell_type": "code",
   "execution_count": 40,
   "id": "c8975761-ea27-421e-9982-8e2b5def05a9",
   "metadata": {},
   "outputs": [
    {
     "data": {
      "text/plain": [
       "deque([-3, -2, -1, 0, 1, 2, 3, 4, 5, 6, 7, 8, 2, 4, 5])"
      ]
     },
     "execution_count": 40,
     "metadata": {},
     "output_type": "execute_result"
    }
   ],
   "source": [
    "q.remove(9)\n",
    "q"
   ]
  },
  {
   "cell_type": "code",
   "execution_count": 42,
   "id": "9077a8f4-8e04-4019-9a9c-594c6efd79c4",
   "metadata": {},
   "outputs": [
    {
     "data": {
      "text/plain": [
       "2"
      ]
     },
     "execution_count": 42,
     "metadata": {},
     "output_type": "execute_result"
    }
   ],
   "source": [
    "q.count(4)"
   ]
  }
 ],
 "metadata": {
  "kernelspec": {
   "display_name": "mygeneral",
   "language": "python",
   "name": "mygeneral"
  },
  "language_info": {
   "codemirror_mode": {
    "name": "ipython",
    "version": 3
   },
   "file_extension": ".py",
   "mimetype": "text/x-python",
   "name": "python",
   "nbconvert_exporter": "python",
   "pygments_lexer": "ipython3",
   "version": "3.10.14"
  }
 },
 "nbformat": 4,
 "nbformat_minor": 5
}
