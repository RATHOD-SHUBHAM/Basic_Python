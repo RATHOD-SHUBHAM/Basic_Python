{
  "nbformat": 4,
  "nbformat_minor": 0,
  "metadata": {
    "colab": {
      "provenance": []
    },
    "kernelspec": {
      "name": "python3",
      "display_name": "Python 3"
    },
    "language_info": {
      "name": "python"
    }
  },
  "cells": [
    {
      "cell_type": "markdown",
      "source": [
        "What Is the Distance Formula?\n",
        "\n",
        "\n",
        "In a two-dimensional space with two points P (x₁, y₁) and Q(x₂, y₂), the distance (d) between these two points is given by the formula:\n",
        "\n",
        "```\n",
        "d = √ (x₂ - x₁)² + (y₂ - y₁)²\n",
        "```\n",
        "\n",
        "\n",
        "Euclidean Distance in n Dimension\n",
        "\n",
        "```\n",
        "d = √[∑(xi – yi)²]\n",
        "\n",
        "```\n",
        "\n",
        "Pythagoras Theorem Statement:\n",
        "\n",
        "Pythagoras theorem states that **“In a right-angled triangle,  the square of the hypotenuse side is equal to the sum of squares of the other two sides“**.\n",
        "\n",
        "```\n",
        "\n",
        "Perpendicular² + Base² = Hypotenuse²\n",
        "a² + b² = c²\n",
        "\n",
        "Where\n",
        "“a” is the perpendicular,\n",
        "\n",
        "“b” is the base,\n",
        "\n",
        "“c” is the hypotenuse.\n",
        "```"
      ],
      "metadata": {
        "id": "bjZpPXfLLmQ4"
      }
    },
    {
      "cell_type": "markdown",
      "source": [
        "# Normal Math"
      ],
      "metadata": {
        "id": "7h06pxjINP4Q"
      }
    },
    {
      "cell_type": "code",
      "source": [
        "import math\n",
        "\n",
        "def euclidean_distance(x, y):\n",
        "  distance = 0\n",
        "\n",
        "  n = len(x) # Note: Len of xi and yi must be same\n",
        "\n",
        "  # ∑(xi – yi)^2\n",
        "  for i in range(n):\n",
        "    distance += (x[i] - y[i]) ** 2\n",
        "\n",
        "  # √distance\n",
        "  euclidean_dst = math.sqrt(distance)\n",
        "\n",
        "  return euclidean_dst\n"
      ],
      "metadata": {
        "id": "-iBbKqJ2LGCt"
      },
      "execution_count": 25,
      "outputs": []
    },
    {
      "cell_type": "code",
      "execution_count": 26,
      "metadata": {
        "colab": {
          "base_uri": "https://localhost:8080/"
        },
        "id": "A7h7hXA3KyxL",
        "outputId": "74ef036e-ae9f-4ba4-fdc8-2fdca61c577f"
      },
      "outputs": [
        {
          "output_type": "stream",
          "name": "stdout",
          "text": [
            "5.196152422706632\n"
          ]
        }
      ],
      "source": [
        "x = [1, 2, 3]\n",
        "y = [4, 5, 6]\n",
        "\n",
        "distance =  euclidean_distance(x, y)\n",
        "print(distance)"
      ]
    },
    {
      "cell_type": "markdown",
      "source": [
        "# Using Math Dist"
      ],
      "metadata": {
        "id": "bOap7TUmNTQA"
      }
    },
    {
      "cell_type": "code",
      "source": [
        "x = [1, 2, 3]\n",
        "y = [4, 5, 6]\n",
        "\n",
        "distance =  math.dist(x, y)\n",
        "print(distance)\n",
        "print(type(distance))"
      ],
      "metadata": {
        "colab": {
          "base_uri": "https://localhost:8080/"
        },
        "id": "keAtHjiwNL89",
        "outputId": "646b6f45-5216-4133-f4ea-c39a944747de"
      },
      "execution_count": 27,
      "outputs": [
        {
          "output_type": "stream",
          "name": "stdout",
          "text": [
            "5.196152422706632\n",
            "<class 'float'>\n"
          ]
        }
      ]
    },
    {
      "cell_type": "markdown",
      "source": [
        "# Using NumPy"
      ],
      "metadata": {
        "id": "OuDa29N0NdI3"
      }
    },
    {
      "cell_type": "code",
      "source": [
        "import numpy as np\n",
        "\n",
        "\n",
        "x = [1, 2, 3]\n",
        "y = [4, 5, 6]\n",
        "\n",
        "print(type(x))\n",
        "\n",
        "# Convert to numpy ndarray\n",
        "\n",
        "np_x = np.array(x)\n",
        "np_y = np.array(y)\n",
        "\n",
        "print(np_x)\n",
        "print(type(np_x))"
      ],
      "metadata": {
        "colab": {
          "base_uri": "https://localhost:8080/"
        },
        "id": "0Y9VLrcsNaMK",
        "outputId": "aecef825-3837-4b3d-f947-d0b271da6539"
      },
      "execution_count": 28,
      "outputs": [
        {
          "output_type": "stream",
          "name": "stdout",
          "text": [
            "<class 'list'>\n",
            "[1 2 3]\n",
            "<class 'numpy.ndarray'>\n"
          ]
        }
      ]
    },
    {
      "cell_type": "code",
      "source": [
        "distance =  np.linalg.norm(np_x - np_y)\n",
        "print(distance)\n",
        "print(type(distance))"
      ],
      "metadata": {
        "colab": {
          "base_uri": "https://localhost:8080/"
        },
        "id": "kSyAe2ZkNyus",
        "outputId": "6839d6d4-2e4c-40c7-814f-1d9edf4a2836"
      },
      "execution_count": 29,
      "outputs": [
        {
          "output_type": "stream",
          "name": "stdout",
          "text": [
            "5.196152422706632\n",
            "<class 'numpy.float64'>\n"
          ]
        }
      ]
    },
    {
      "cell_type": "markdown",
      "source": [
        "# Using SciPy"
      ],
      "metadata": {
        "id": "wbvsR1bPOGKy"
      }
    },
    {
      "cell_type": "code",
      "source": [
        "from scipy.spatial import distance\n",
        "\n",
        "x = [1, 2, 3]\n",
        "y = [4, 5, 6]\n",
        "\n",
        "distance =  distance.euclidean(x, y)\n",
        "print(distance)\n",
        "print(type(distance))"
      ],
      "metadata": {
        "colab": {
          "base_uri": "https://localhost:8080/"
        },
        "id": "x4Nj8KV3N_Pg",
        "outputId": "1eed6547-724a-4826-efa5-97b8955e753b"
      },
      "execution_count": 30,
      "outputs": [
        {
          "output_type": "stream",
          "name": "stdout",
          "text": [
            "5.196152422706632\n",
            "<class 'numpy.float64'>\n"
          ]
        }
      ]
    },
    {
      "cell_type": "markdown",
      "source": [
        "# Pytorch"
      ],
      "metadata": {
        "id": "RmO3IQXyOYb-"
      }
    },
    {
      "cell_type": "markdown",
      "source": [
        "Manual Calculation"
      ],
      "metadata": {
        "id": "RofkFDZzRBSi"
      }
    },
    {
      "cell_type": "code",
      "source": [
        "import torch\n",
        "\n",
        "x = [1, 2, 3]\n",
        "y = [4, 5, 6]\n",
        "\n",
        "# Convert to tensor\n",
        "tensor_x = torch.tensor(x)\n",
        "tensor_y = torch.tensor(y)\n",
        "\n",
        "distance =  torch.sqrt(torch.sum((tensor_x - tensor_y) ** 2))\n",
        "print(distance)"
      ],
      "metadata": {
        "colab": {
          "base_uri": "https://localhost:8080/"
        },
        "id": "UhQII_1YOLUD",
        "outputId": "01d27653-718c-4a94-d26e-2f67784687ad"
      },
      "execution_count": 31,
      "outputs": [
        {
          "output_type": "stream",
          "name": "stdout",
          "text": [
            "tensor(5.1962)\n"
          ]
        }
      ]
    },
    {
      "cell_type": "markdown",
      "source": [
        "Using PairwiseDistance"
      ],
      "metadata": {
        "id": "Ohto4MYtRDrE"
      }
    },
    {
      "cell_type": "code",
      "source": [
        "x = [1, 2, 3]\n",
        "y = [4, 5, 6]\n",
        "\n",
        "# Convert to tensor\n",
        "tensor_x = torch.tensor(x)\n",
        "tensor_y = torch.tensor(y)\n",
        "\n",
        "\n",
        "distance =  torch.nn.PairwiseDistance()(tensor_x, tensor_y)\n",
        "print(distance)"
      ],
      "metadata": {
        "colab": {
          "base_uri": "https://localhost:8080/"
        },
        "id": "wbZbQC08QtdE",
        "outputId": "76b8c7e8-1702-4501-8cf9-cc8980b30557"
      },
      "execution_count": 32,
      "outputs": [
        {
          "output_type": "stream",
          "name": "stdout",
          "text": [
            "tensor(5.1962)\n"
          ]
        }
      ]
    },
    {
      "cell_type": "markdown",
      "source": [
        "OR"
      ],
      "metadata": {
        "id": "Nr8EJeA0RUgA"
      }
    },
    {
      "cell_type": "code",
      "source": [
        "!pip install -qU torchmetrics"
      ],
      "metadata": {
        "id": "pJYSY7BVR8h1"
      },
      "execution_count": 33,
      "outputs": []
    },
    {
      "cell_type": "code",
      "source": [
        "import torch\n",
        "from torchmetrics.functional.pairwise import pairwise_euclidean_distance\n",
        "\n",
        "x = [1, 2, 3]\n",
        "y = [4, 5, 6]\n",
        "\n",
        "# Convert into 2D array\n",
        "\n",
        "x = [x]\n",
        "y = [y]\n",
        "\n",
        "# Convert to tensor\n",
        "tensor_x = torch.tensor(x, dtype=torch.float32)\n",
        "tensor_y = torch.tensor(y, dtype=torch.float32)\n",
        "\n",
        "distance = pairwise_euclidean_distance(tensor_x, tensor_y)\n",
        "print(distance)\n"
      ],
      "metadata": {
        "colab": {
          "base_uri": "https://localhost:8080/"
        },
        "id": "vy88W1w2RYH_",
        "outputId": "c88659a7-6fc4-4134-fd8c-a6908995502c"
      },
      "execution_count": 34,
      "outputs": [
        {
          "output_type": "stream",
          "name": "stdout",
          "text": [
            "tensor([[5.1962]])\n"
          ]
        }
      ]
    },
    {
      "cell_type": "markdown",
      "source": [
        "# Using cDist"
      ],
      "metadata": {
        "id": "ZUik0w1cSUAS"
      }
    },
    {
      "cell_type": "code",
      "source": [
        "x = [1, 2, 3]\n",
        "y = [4, 5, 6]\n",
        "\n",
        "# Convert into 2D array\n",
        "\n",
        "x = [x]\n",
        "y = [y]\n",
        "\n",
        "# Convert to tensor\n",
        "tensor_x = torch.tensor(x, dtype=torch.float32)\n",
        "tensor_y = torch.tensor(y, dtype=torch.float32)\n",
        "\n",
        "distance = torch.cdist(tensor_x, tensor_y, p = 2) # p = 2 for Euclidean distance\n",
        "print(distance)"
      ],
      "metadata": {
        "colab": {
          "base_uri": "https://localhost:8080/"
        },
        "id": "lvXPu9x8Rw3q",
        "outputId": "0b0a8755-5c3f-4333-e25d-e80f9f77ad3f"
      },
      "execution_count": 35,
      "outputs": [
        {
          "output_type": "stream",
          "name": "stdout",
          "text": [
            "tensor([[5.1962]])\n"
          ]
        }
      ]
    }
  ]
}